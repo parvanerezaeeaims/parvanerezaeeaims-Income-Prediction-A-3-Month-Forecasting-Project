{
 "cells": [
  {
   "cell_type": "code",
   "execution_count": 57,
   "metadata": {},
   "outputs": [
    {
     "name": "stdout",
     "output_type": "stream",
     "text": [
      "Epoch 1/50\n",
      "15/15 [==============================] - 4s 5ms/step - loss: 0.1095\n",
      "Epoch 2/50\n",
      "15/15 [==============================] - 0s 5ms/step - loss: 0.0249\n",
      "Epoch 3/50\n",
      "15/15 [==============================] - 0s 5ms/step - loss: 0.0186\n",
      "Epoch 4/50\n",
      "15/15 [==============================] - 0s 5ms/step - loss: 0.0225\n",
      "Epoch 5/50\n",
      "15/15 [==============================] - 0s 5ms/step - loss: 0.0176\n",
      "Epoch 6/50\n",
      "15/15 [==============================] - 0s 5ms/step - loss: 0.0266\n",
      "Epoch 7/50\n",
      "15/15 [==============================] - 0s 5ms/step - loss: 0.0306\n",
      "Epoch 8/50\n",
      "15/15 [==============================] - 0s 6ms/step - loss: 0.0195\n",
      "Epoch 9/50\n",
      "15/15 [==============================] - 0s 5ms/step - loss: 0.0287\n",
      "Epoch 10/50\n",
      "15/15 [==============================] - 0s 6ms/step - loss: 0.0220\n",
      "Epoch 11/50\n",
      "15/15 [==============================] - 0s 6ms/step - loss: 0.0199\n",
      "Epoch 12/50\n",
      "15/15 [==============================] - 0s 5ms/step - loss: 0.0242\n",
      "Epoch 13/50\n",
      "15/15 [==============================] - 0s 7ms/step - loss: 0.0169\n",
      "Epoch 14/50\n",
      "15/15 [==============================] - 0s 6ms/step - loss: 0.0176\n",
      "Epoch 15/50\n",
      "15/15 [==============================] - 0s 6ms/step - loss: 0.0174\n",
      "Epoch 16/50\n",
      "15/15 [==============================] - 0s 6ms/step - loss: 0.0162\n",
      "Epoch 17/50\n",
      "15/15 [==============================] - 0s 5ms/step - loss: 0.0237\n",
      "Epoch 18/50\n",
      "15/15 [==============================] - 0s 6ms/step - loss: 0.0179\n",
      "Epoch 19/50\n",
      "15/15 [==============================] - 0s 6ms/step - loss: 0.0269\n",
      "Epoch 20/50\n",
      "15/15 [==============================] - 0s 6ms/step - loss: 0.0283\n",
      "Epoch 21/50\n",
      "15/15 [==============================] - 0s 6ms/step - loss: 0.0175\n",
      "Epoch 22/50\n",
      "15/15 [==============================] - 0s 6ms/step - loss: 0.0253\n",
      "Epoch 23/50\n",
      "15/15 [==============================] - 0s 5ms/step - loss: 0.0155\n",
      "Epoch 24/50\n",
      "15/15 [==============================] - 0s 6ms/step - loss: 0.0157\n",
      "Epoch 25/50\n",
      "15/15 [==============================] - 0s 6ms/step - loss: 0.0182\n",
      "Epoch 26/50\n",
      "15/15 [==============================] - 0s 6ms/step - loss: 0.0179\n",
      "Epoch 27/50\n",
      "15/15 [==============================] - 0s 6ms/step - loss: 0.0189\n",
      "Epoch 28/50\n",
      "15/15 [==============================] - 0s 13ms/step - loss: 0.0189\n",
      "Epoch 29/50\n",
      "15/15 [==============================] - 0s 11ms/step - loss: 0.0150\n",
      "Epoch 30/50\n",
      "15/15 [==============================] - 0s 6ms/step - loss: 0.0176\n",
      "Epoch 31/50\n",
      "15/15 [==============================] - 0s 6ms/step - loss: 0.0204\n",
      "Epoch 32/50\n",
      "15/15 [==============================] - 0s 6ms/step - loss: 0.0201\n",
      "Epoch 33/50\n",
      "15/15 [==============================] - 0s 9ms/step - loss: 0.0232\n",
      "Epoch 34/50\n",
      "15/15 [==============================] - 0s 7ms/step - loss: 0.0158\n",
      "Epoch 35/50\n",
      "15/15 [==============================] - 0s 5ms/step - loss: 0.0214\n",
      "Epoch 36/50\n",
      "15/15 [==============================] - 0s 5ms/step - loss: 0.0148\n",
      "Epoch 37/50\n",
      "15/15 [==============================] - 0s 6ms/step - loss: 0.0181\n",
      "Epoch 38/50\n",
      "15/15 [==============================] - 0s 5ms/step - loss: 0.0183\n",
      "Epoch 39/50\n",
      "15/15 [==============================] - 0s 6ms/step - loss: 0.0189\n",
      "Epoch 40/50\n",
      "15/15 [==============================] - 0s 5ms/step - loss: 0.0193\n",
      "Epoch 41/50\n",
      "15/15 [==============================] - 0s 6ms/step - loss: 0.0176\n",
      "Epoch 42/50\n",
      "15/15 [==============================] - 0s 5ms/step - loss: 0.0156\n",
      "Epoch 43/50\n",
      "15/15 [==============================] - 0s 6ms/step - loss: 0.0149\n",
      "Epoch 44/50\n",
      "15/15 [==============================] - 0s 5ms/step - loss: 0.0162\n",
      "Epoch 45/50\n",
      "15/15 [==============================] - 0s 6ms/step - loss: 0.0177\n",
      "Epoch 46/50\n",
      "15/15 [==============================] - 0s 7ms/step - loss: 0.0143\n",
      "Epoch 47/50\n",
      "15/15 [==============================] - 0s 6ms/step - loss: 0.0160\n",
      "Epoch 48/50\n",
      "15/15 [==============================] - 0s 6ms/step - loss: 0.0154\n",
      "Epoch 49/50\n",
      "15/15 [==============================] - 0s 6ms/step - loss: 0.0201\n",
      "Epoch 50/50\n",
      "15/15 [==============================] - 0s 5ms/step - loss: 0.0205\n",
      "1/1 [==============================] - 1s 898ms/step\n",
      "1/1 [==============================] - 0s 37ms/step\n",
      "1/1 [==============================] - 0s 26ms/step\n",
      "1/1 [==============================] - 0s 33ms/step\n",
      "1/1 [==============================] - 0s 29ms/step\n",
      "1/1 [==============================] - 0s 38ms/step\n",
      "1/1 [==============================] - 0s 212ms/step\n",
      "1/1 [==============================] - 0s 36ms/step\n",
      "1/1 [==============================] - 0s 35ms/step\n",
      "1/1 [==============================] - 0s 28ms/step\n",
      "1/1 [==============================] - 0s 26ms/step\n",
      "1/1 [==============================] - 0s 32ms/step\n",
      "1/1 [==============================] - 0s 31ms/step\n",
      "1/1 [==============================] - 0s 27ms/step\n"
     ]
    },
    {
     "data": {
      "image/png": "[encoded data removed]",
      "text/plain": [
       "<Figure size 1200x600 with 1 Axes>"
      ]
     },
     "metadata": {},
     "output_type": "display_data"
    },
    {
     "name": "stdout",
     "output_type": "stream",
     "text": [
      "Future Predictions:\n",
      "            Predicted Sales\n",
      "2024-03-31     8.768841e+09\n",
      "2024-04-30     9.109595e+09\n",
      "2024-05-31     9.394552e+09\n",
      "2024-06-30     8.870938e+09\n",
      "2024-07-31     8.979170e+09\n",
      "2024-08-31     8.973062e+09\n",
      "2024-09-30     8.836062e+09\n",
      "2024-10-31     8.854687e+09\n",
      "2024-11-30     8.827443e+09\n",
      "2024-12-31     8.786382e+09\n",
      "2025-01-31     8.782653e+09\n",
      "2025-02-28     8.765578e+09\n"
     ]
    }
   ],
   "source": [
    "import pandas as pd\n",
    "import numpy as np\n",
    "import matplotlib.pyplot as plt\n",
    "from sklearn.preprocessing import MinMaxScaler\n",
    "from keras.models import Sequential\n",
    "from keras.layers import Dense, LSTM, Dropout\n",
    "from tensorflow.keras.optimizers import Adam\n",
    "import jdatetime\n",
    "\n",
    "# Create the DataFrame with Shamsi dates and sales data\n",
    "data = {\n",
    "    \"date\": [\n",
    "        \"1401-01\", \"1401-02\", \"1401-03\", \"1401-04\", \"1401-05\",\n",
    "        \"1401-06\", \"1401-07\", \"1401-08\", \"1401-09\", \"1401-10\",\n",
    "        \"1401-11\", \"1401-12\", \"1402-01\", \"1402-02\", \"1402-03\",\n",
    "        \"1402-04\", \"1402-05\", \"1402-06\", \"1402-07\", \"1402-08\",\n",
    "        \"1402-09\", \"1402-10\", \"1402-11\", \"1402-12\"\n",
    "    ],\n",
    "    \"مجموع\": [\n",
    "        4711607223.556961, 5789302831.537865, 6247241161.421834, \n",
    "        5930504059.921055, 5747216635.687351, 6161679873.581699,\n",
    "        6053795194.559947, 6553566286.254184, 7125906639.43639,\n",
    "        7198089641.705729, 7845446633.328383, 9980803600.928616,\n",
    "        6927248013.418947, 7984405532.993462, 8169348417.991675,\n",
    "        7973813837.050559, 7819983557.842994, 8237619201.29318,\n",
    "        8451976947.99286, 8409376704.655896, 8457885204.084438,\n",
    "        8289609728.094483, 8613289888.130478, 10918507216.936815\n",
    "    ]\n",
    "}\n",
    "\n",
    "# Convert the dates from Shamsi to Gregorian\n",
    "def convert_shamsi_to_gregorian(shamsi_date):\n",
    "    year, month = map(int, shamsi_date.split('-'))\n",
    "    g_date = jdatetime.date(year, month, 1).togregorian()  # Convert to Gregorian\n",
    "    return g_date\n",
    "\n",
    "# Create a DataFrame\n",
    "df = pd.DataFrame(data)\n",
    "\n",
    "# Convert Shamsi dates to Gregorian dates\n",
    "df['date'] = df['date'].apply(convert_shamsi_to_gregorian)\n",
    "\n",
    "# Set the date as the index\n",
    "df.set_index('date', inplace=True)\n",
    "\n",
    "# Normalize the data\n",
    "scaler = MinMaxScaler(feature_range=(0, 1))\n",
    "scaled_data = scaler.fit_transform(df['مجموع'].values.reshape(-1, 1))\n",
    "\n",
    "# Prepare the training data\n",
    "train_size = int(len(scaled_data) * 0.8)  # 80% for training\n",
    "train_data = scaled_data[:train_size]\n",
    "test_data = scaled_data[train_size:]\n",
    "\n",
    "# Function to create dataset in the format LSTM expects\n",
    "def create_dataset(data, time_step=1):\n",
    "    X, y = [], []\n",
    "    for i in range(len(data) - time_step - 1):\n",
    "        X.append(data[i:(i + time_step), 0])\n",
    "        y.append(data[i + time_step, 0])\n",
    "    return np.array(X), np.array(y)\n",
    "\n",
    "# Create datasets\n",
    "time_step =3  # Number of time steps to look back\n",
    "X_train, y_train = create_dataset(train_data, time_step)\n",
    "X_test, y_test = create_dataset(test_data, time_step)\n",
    "\n",
    "# Reshape input to be [samples, time steps, features]\n",
    "X_train = X_train.reshape(X_train.shape[0], X_train.shape[1], 1)\n",
    "X_test = X_test.reshape(X_test.shape[0], X_test.shape[1], 1)\n",
    "\n",
    "# Build the LSTM model\n",
    "model = Sequential()\n",
    "model.add(LSTM(100, return_sequences=True, input_shape=(X_train.shape[1], 1)))\n",
    "model.add(Dropout(0.2))\n",
    "model.add(LSTM(50, return_sequences=False))\n",
    "model.add(Dropout(0.2))\n",
    "model.add(Dense(25))\n",
    "model.add(Dense(1))\n",
    "\n",
    "\n",
    "\n",
    "\n",
    "optimizer = Adam(learning_rate=0.001)  # Setting the learning rate\n",
    "model.compile(optimizer=optimizer, loss='mean_squared_error')\n",
    "\n",
    "\n",
    "# Train the model\n",
    "model.fit(X_train, y_train, batch_size=1, epochs=50)\n",
    "\n",
    "# Make predictions\n",
    "train_predict = model.predict(X_train)\n",
    "test_predict = model.predict(X_test)\n",
    "\n",
    "# # Inverse transform to get actual values\n",
    "train_predict = scaler.inverse_transform(train_predict)\n",
    "test_predict = scaler.inverse_transform(test_predict)\n",
    "\n",
    "# Prepare the data for plotting\n",
    "valid = df[['مجموع']].copy()  # Create a DataFrame to hold valid data\n",
    "valid['Predictions'] = np.nan\n",
    "\n",
    "# Add predictions to the valid DataFrame\n",
    "train_data_len = len(train_data)\n",
    "valid['Predictions'].iloc[train_data_len:train_data_len + len(test_predict)] = test_predict.flatten()\n",
    "\n",
    "# Forecasting the next 12 months\n",
    "last_data = scaled_data[-time_step:].reshape(1, time_step, 1)\n",
    "future_predictions = []\n",
    "\n",
    "for _ in range(12):\n",
    "    prediction = model.predict(last_data)\n",
    "    future_predictions.append(prediction[0][0])\n",
    "    last_data = np.append(last_data[:, 1:, :], prediction.reshape(1, 1, 1), axis=1)\n",
    "\n",
    "# Inverse transform future predictions\n",
    "future_predictions = scaler.inverse_transform(np.array(future_predictions).reshape(-1, 1))\n",
    "\n",
    "# Create a DataFrame for future predictions\n",
    "future_dates = pd.date_range(start=df.index[-1] + pd.DateOffset(months=1), periods=12, freq='M')\n",
    "future_df = pd.DataFrame(future_predictions, index=future_dates, columns=['Predicted Sales'])\n",
    "\n",
    "# Plot the results without the valid predictions\n",
    "plt.figure(figsize=(12, 6))\n",
    "plt.plot(df['مجموع'], label='Historical Sales', color='blue')\n",
    "plt.plot(future_df, label='Future Predictions', color='green')\n",
    "plt.title('Sales Forecast using LSTM')\n",
    "plt.xlabel('Date')\n",
    "plt.ylabel('Sales')\n",
    "plt.legend()\n",
    "plt.grid()\n",
    "plt.show()\n",
    "\n",
    "print(\"Future Predictions:\")\n",
    "print(future_df)\n",
    "\n"
   ]
  },
  {
   "cell_type": "markdown",
   "metadata": {},
   "source": [
    "df[\"مجموع\"].iloc[11:23]"
   ]
  },
  {
   "cell_type": "code",
   "execution_count": 64,
   "metadata": {},
   "outputs": [
    {
     "data": {
      "text/plain": [
       "2024-03-31    8.768841e+09\n",
       "2024-04-30    9.109595e+09\n",
       "2024-05-31    9.394552e+09\n",
       "2024-06-30    8.870938e+09\n",
       "2024-07-31    8.979170e+09\n",
       "2024-08-31    8.973062e+09\n",
       "2024-09-30    8.836062e+09\n",
       "2024-10-31    8.854687e+09\n",
       "2024-11-30    8.827443e+09\n",
       "2024-12-31    8.786382e+09\n",
       "2025-01-31    8.782653e+09\n",
       "2025-02-28    8.765578e+09\n",
       "Freq: M, Name: Predicted Sales, dtype: float32"
      ]
     },
     "execution_count": 64,
     "metadata": {},
     "output_type": "execute_result"
    }
   ],
   "source": [
    "future_df[\"Predicted Sales\"]"
   ]
  },
  {
   "cell_type": "markdown",
   "metadata": {},
   "source": [
    "future_df[\"Predicted Sales\"]"
   ]
  },
  {
   "cell_type": "code",
   "execution_count": 65,
   "metadata": {},
   "outputs": [
    {
     "data": {
      "text/plain": [
       "2024-03-31    8.768841e+09\n",
       "2024-04-30    9.109595e+09\n",
       "2024-05-31    9.394552e+09\n",
       "2024-06-30    8.870938e+09\n",
       "2024-07-31    8.979170e+09\n",
       "2024-08-31    8.973062e+09\n",
       "2024-09-30    8.836062e+09\n",
       "2024-10-31    8.854687e+09\n",
       "2024-11-30    8.827443e+09\n",
       "2024-12-31    8.786382e+09\n",
       "2025-01-31    8.782653e+09\n",
       "2025-02-28    8.765578e+09\n",
       "Freq: M, Name: Predicted Sales, dtype: float32"
      ]
     },
     "execution_count": 65,
     "metadata": {},
     "output_type": "execute_result"
    }
   ],
   "source": [
    "future_df[\"Predicted Sales\"]"
   ]
  },
  {
   "cell_type": "code",
   "execution_count": 60,
   "metadata": {},
   "outputs": [
    {
     "data": {
      "text/plain": [
       "99315360634.4776"
      ]
     },
     "execution_count": 60,
     "metadata": {},
     "output_type": "execute_result"
    }
   ],
   "source": [
    "np.sum(df[\"مجموع\"].iloc[11:23])"
   ]
  },
  {
   "cell_type": "code",
   "execution_count": 61,
   "metadata": {},
   "outputs": [
    {
     "data": {
      "text/plain": [
       "106948960000.0"
      ]
     },
     "execution_count": 61,
     "metadata": {},
     "output_type": "execute_result"
    }
   ],
   "source": [
    "np.sum(future_df[\"Predicted Sales\"])"
   ]
  },
  {
   "cell_type": "code",
   "execution_count": 63,
   "metadata": {},
   "outputs": [
    {
     "data": {
      "text/plain": [
       "7633599621.5224"
      ]
     },
     "execution_count": 63,
     "metadata": {},
     "output_type": "execute_result"
    }
   ],
   "source": [
    "(np.sum(future_df[\"Predicted Sales\"]))-(np.sum(df[\"مجموع\"].iloc[11:23]))"
   ]
  }
 ],
 "metadata": {
  "kernelspec": {
   "display_name": "Python 3",
   "language": "python",
   "name": "python3"
  },
  "language_info": {
   "codemirror_mode": {
    "name": "ipython",
    "version": 3
   },
   "file_extension": ".py",
   "mimetype": "text/x-python",
   "name": "python",
   "nbconvert_exporter": "python",
   "pygments_lexer": "ipython3",
   "version": "3.10.3"
  }
 },
 "nbformat": 4,
 "nbformat_minor": 2
}
